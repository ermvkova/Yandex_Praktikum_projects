{
 "cells": [
  {
   "cell_type": "markdown",
   "id": "fac40fa2",
   "metadata": {},
   "source": [
    "# Создание дашборда по пользовательским событиям для агрегатора новостей"
   ]
  },
  {
   "cell_type": "markdown",
   "id": "02dbaa8b",
   "metadata": {},
   "source": [
    "**Ссылка на дашборд:**"
   ]
  },
  {
   "cell_type": "markdown",
   "id": "a5adefc2",
   "metadata": {},
   "source": [
    "https://public.tableau.com/app/profile/ekaterina8580/viz/__16629877498630/Dashboard1"
   ]
  },
  {
   "cell_type": "markdown",
   "id": "32847f0a",
   "metadata": {},
   "source": [
    "**Ссылка на презентацию:**"
   ]
  },
  {
   "cell_type": "markdown",
   "id": "bc12bd90",
   "metadata": {},
   "source": [
    "https://disk.yandex.ru/d/3dkfBYOg6r5_lQ"
   ]
  },
  {
   "cell_type": "code",
   "execution_count": null,
   "id": "f38ef50c",
   "metadata": {},
   "outputs": [],
   "source": []
  }
 ],
 "metadata": {
  "kernelspec": {
   "display_name": "Python 3 (ipykernel)",
   "language": "python",
   "name": "python3"
  },
  "language_info": {
   "codemirror_mode": {
    "name": "ipython",
    "version": 3
   },
   "file_extension": ".py",
   "mimetype": "text/x-python",
   "name": "python",
   "nbconvert_exporter": "python",
   "pygments_lexer": "ipython3",
   "version": "3.9.12"
  }
 },
 "nbformat": 4,
 "nbformat_minor": 5
}
