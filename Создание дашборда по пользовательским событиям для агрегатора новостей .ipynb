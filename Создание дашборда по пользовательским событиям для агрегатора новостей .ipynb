{
 "cells": [
  {
   "cell_type": "markdown",
   "id": "a05454a0",
   "metadata": {},
   "source": [
    "# Создание дашборда по пользовательским событиям для агрегатора новостей "
   ]
  },
  {
   "cell_type": "markdown",
   "id": "f35fc364",
   "metadata": {},
   "source": [
    "**Ссылка на дашборд**"
   ]
  },
  {
   "cell_type": "markdown",
   "id": "cdfbdbaf",
   "metadata": {},
   "source": [
    "https://public.tableau.com/app/profile/ekaterina8580/viz/__16629877498630/Dashboard1"
   ]
  },
  {
   "cell_type": "markdown",
   "id": "8c267392",
   "metadata": {},
   "source": [
    "**Ссылка на презентацию**"
   ]
  },
  {
   "cell_type": "markdown",
   "id": "b31ac38d",
   "metadata": {},
   "source": [
    "https://disk.yandex.ru/d/3dkfBYOg6r5_lQ"
   ]
  },
  {
   "cell_type": "markdown",
   "id": "ea3948b1",
   "metadata": {},
   "source": [
    "## Загрузка данных и подготовка их к анализу"
   ]
  },
  {
   "cell_type": "markdown",
   "id": "bacb4cba",
   "metadata": {},
   "source": [
    "### Изучение данных из файла"
   ]
  },
  {
   "cell_type": "code",
   "execution_count": 1,
   "id": "a370512e",
   "metadata": {},
   "outputs": [],
   "source": [
    "# импортируем библиотеки\n",
    "import pandas as pd\n",
    "from sqlalchemy import create_engine\n",
    "from matplotlib import pyplot as plt\n",
    "import seaborn as sns\n",
    "import datetime"
   ]
  },
  {
   "cell_type": "code",
   "execution_count": 2,
   "id": "0476cf7b",
   "metadata": {
    "scrolled": false
   },
   "outputs": [
    {
     "name": "stdout",
     "output_type": "stream",
     "text": [
      "Requirement already satisfied: psycopg2-binary in ./opt/anaconda3/lib/python3.9/site-packages (2.9.3)\r\n"
     ]
    }
   ],
   "source": [
    "!pip install psycopg2-binary"
   ]
  },
  {
   "cell_type": "code",
   "execution_count": 3,
   "id": "cd6a352a",
   "metadata": {},
   "outputs": [],
   "source": [
    "db_config = {'user': 'praktikum_student', # имя пользователя\n",
    "            'pwd': 'Sdf4$2;d-d30pp', # пароль\n",
    "            'host': 'rc1b-wcoijxj3yxfsf3fs.mdb.yandexcloud.net',\n",
    "            'port': 6432, # порт подключения\n",
    "            'db': 'data-analyst-zen-project-db'} # название базы данных\n",
    "\n",
    "connection_string = 'postgresql://{}:{}@{}:{}/{}'.format(db_config['user'],\n",
    "                                                db_config['pwd'],\n",
    "                                                db_config['host'],\n",
    "                                                db_config['port'],\n",
    "                                                db_config['db'])\n",
    "\n",
    "engine = create_engine(connection_string)"
   ]
  },
  {
   "cell_type": "code",
   "execution_count": 4,
   "id": "1121efef",
   "metadata": {},
   "outputs": [],
   "source": [
    "query = ''' SELECT *\n",
    "            FROM dash_visits\n",
    "        '''\n",
    "\n",
    "dash_visits = pd.io.sql.read_sql(query, con = engine)"
   ]
  },
  {
   "cell_type": "code",
   "execution_count": 5,
   "id": "a475be45",
   "metadata": {},
   "outputs": [
    {
     "name": "stdout",
     "output_type": "stream",
     "text": [
      "<class 'pandas.core.frame.DataFrame'>\n",
      "RangeIndex: 30745 entries, 0 to 30744\n",
      "Data columns (total 6 columns):\n",
      " #   Column        Non-Null Count  Dtype         \n",
      "---  ------        --------------  -----         \n",
      " 0   record_id     30745 non-null  int64         \n",
      " 1   item_topic    30745 non-null  object        \n",
      " 2   source_topic  30745 non-null  object        \n",
      " 3   age_segment   30745 non-null  object        \n",
      " 4   dt            30745 non-null  datetime64[ns]\n",
      " 5   visits        30745 non-null  int64         \n",
      "dtypes: datetime64[ns](1), int64(2), object(3)\n",
      "memory usage: 1.4+ MB\n"
     ]
    }
   ],
   "source": [
    "dash_visits.info()"
   ]
  },
  {
   "cell_type": "code",
   "execution_count": 6,
   "id": "b555ef6d",
   "metadata": {},
   "outputs": [
    {
     "data": {
      "text/html": [
       "<div>\n",
       "<style scoped>\n",
       "    .dataframe tbody tr th:only-of-type {\n",
       "        vertical-align: middle;\n",
       "    }\n",
       "\n",
       "    .dataframe tbody tr th {\n",
       "        vertical-align: top;\n",
       "    }\n",
       "\n",
       "    .dataframe thead th {\n",
       "        text-align: right;\n",
       "    }\n",
       "</style>\n",
       "<table border=\"1\" class=\"dataframe\">\n",
       "  <thead>\n",
       "    <tr style=\"text-align: right;\">\n",
       "      <th></th>\n",
       "      <th>record_id</th>\n",
       "      <th>item_topic</th>\n",
       "      <th>source_topic</th>\n",
       "      <th>age_segment</th>\n",
       "      <th>dt</th>\n",
       "      <th>visits</th>\n",
       "    </tr>\n",
       "  </thead>\n",
       "  <tbody>\n",
       "    <tr>\n",
       "      <th>0</th>\n",
       "      <td>1040597</td>\n",
       "      <td>Деньги</td>\n",
       "      <td>Авто</td>\n",
       "      <td>18-25</td>\n",
       "      <td>2019-09-24 18:32:00</td>\n",
       "      <td>3</td>\n",
       "    </tr>\n",
       "    <tr>\n",
       "      <th>1</th>\n",
       "      <td>1040598</td>\n",
       "      <td>Деньги</td>\n",
       "      <td>Авто</td>\n",
       "      <td>18-25</td>\n",
       "      <td>2019-09-24 18:35:00</td>\n",
       "      <td>1</td>\n",
       "    </tr>\n",
       "    <tr>\n",
       "      <th>2</th>\n",
       "      <td>1040599</td>\n",
       "      <td>Деньги</td>\n",
       "      <td>Авто</td>\n",
       "      <td>18-25</td>\n",
       "      <td>2019-09-24 18:54:00</td>\n",
       "      <td>4</td>\n",
       "    </tr>\n",
       "    <tr>\n",
       "      <th>3</th>\n",
       "      <td>1040600</td>\n",
       "      <td>Деньги</td>\n",
       "      <td>Авто</td>\n",
       "      <td>18-25</td>\n",
       "      <td>2019-09-24 18:55:00</td>\n",
       "      <td>17</td>\n",
       "    </tr>\n",
       "    <tr>\n",
       "      <th>4</th>\n",
       "      <td>1040601</td>\n",
       "      <td>Деньги</td>\n",
       "      <td>Авто</td>\n",
       "      <td>18-25</td>\n",
       "      <td>2019-09-24 18:56:00</td>\n",
       "      <td>27</td>\n",
       "    </tr>\n",
       "  </tbody>\n",
       "</table>\n",
       "</div>"
      ],
      "text/plain": [
       "   record_id item_topic source_topic age_segment                  dt  visits\n",
       "0    1040597     Деньги         Авто       18-25 2019-09-24 18:32:00       3\n",
       "1    1040598     Деньги         Авто       18-25 2019-09-24 18:35:00       1\n",
       "2    1040599     Деньги         Авто       18-25 2019-09-24 18:54:00       4\n",
       "3    1040600     Деньги         Авто       18-25 2019-09-24 18:55:00      17\n",
       "4    1040601     Деньги         Авто       18-25 2019-09-24 18:56:00      27"
      ]
     },
     "execution_count": 6,
     "metadata": {},
     "output_type": "execute_result"
    }
   ],
   "source": [
    "dash_visits.head()"
   ]
  },
  {
   "cell_type": "markdown",
   "id": "6b5f8333",
   "metadata": {},
   "source": [
    "В нашем распоряжении таблица, которая содержит 30745 записей, 6 столбцов:\n",
    "* record_id - уникальный id;\n",
    "* item_topic - тема карточки;\n",
    "* source_topic - тема источника;\n",
    "* age_segment - возрастная категория;\n",
    "* dt - дата и время посещения;\n",
    "* visits - количество посещений."
   ]
  },
  {
   "cell_type": "markdown",
   "id": "2ba9798f",
   "metadata": {},
   "source": [
    "### Исследование данных"
   ]
  },
  {
   "cell_type": "code",
   "execution_count": 7,
   "id": "acf2be0d",
   "metadata": {},
   "outputs": [
    {
     "data": {
      "text/plain": [
       "0"
      ]
     },
     "execution_count": 7,
     "metadata": {},
     "output_type": "execute_result"
    }
   ],
   "source": [
    "# поиск дубликатов\n",
    "dash_visits.duplicated().sum()"
   ]
  },
  {
   "cell_type": "code",
   "execution_count": 8,
   "id": "199660dd",
   "metadata": {},
   "outputs": [
    {
     "data": {
      "text/plain": [
       "Отношения             1536\n",
       "Интересные факты      1535\n",
       "Наука                 1505\n",
       "Подборки              1456\n",
       "Полезные советы       1424\n",
       "Общество              1422\n",
       "Россия                1385\n",
       "История               1363\n",
       "Семья                 1287\n",
       "Путешествия           1247\n",
       "Деньги                1234\n",
       "Женщины               1230\n",
       "Дети                  1229\n",
       "Туризм                1206\n",
       "Здоровье              1203\n",
       "Красота               1193\n",
       "Культура              1160\n",
       "Юмор                  1129\n",
       "Искусство             1119\n",
       "Рассказы              1109\n",
       "Психология            1056\n",
       "Скандалы              1023\n",
       "Знаменитости           976\n",
       "Женская психология     914\n",
       "Шоу                    804\n",
       "Name: item_topic, dtype: int64"
      ]
     },
     "execution_count": 8,
     "metadata": {},
     "output_type": "execute_result"
    }
   ],
   "source": [
    "dash_visits['item_topic'].value_counts()"
   ]
  },
  {
   "cell_type": "code",
   "execution_count": 9,
   "id": "9303abe9",
   "metadata": {},
   "outputs": [
    {
     "data": {
      "text/plain": [
       "25"
      ]
     },
     "execution_count": 9,
     "metadata": {},
     "output_type": "execute_result"
    }
   ],
   "source": [
    "dash_visits['item_topic'].nunique()"
   ]
  },
  {
   "cell_type": "markdown",
   "id": "806de952",
   "metadata": {},
   "source": [
    "Всего имеется 25 карточек."
   ]
  },
  {
   "cell_type": "code",
   "execution_count": 10,
   "id": "45c81cd4",
   "metadata": {},
   "outputs": [
    {
     "data": {
      "image/png": "[encoded data removed]",
      "text/plain": [
       "<Figure size 720x720 with 1 Axes>"
      ]
     },
     "metadata": {
      "needs_background": "light"
     },
     "output_type": "display_data"
    }
   ],
   "source": [
    "# визуализация\n",
    "dash_visits['item_topic'].value_counts().sort_values(ascending=False).plot.barh(color=\"purple\",figsize=(10, 10))\n",
    "plt.title('Популярность среди карточек',fontsize=16);\n",
    "plt.xlabel('Количество событий');\n",
    "plt.ylabel('Темы карточек');\n",
    "plt.yticks(rotation=0,fontsize=12);"
   ]
  },
  {
   "cell_type": "markdown",
   "id": "84fd3bf7",
   "metadata": {},
   "source": [
    "На графике мы видим, что самая полпулярная тема - отношения."
   ]
  },
  {
   "cell_type": "code",
   "execution_count": 11,
   "id": "8dd745f6",
   "metadata": {},
   "outputs": [
    {
     "data": {
      "text/plain": [
       "Семейные отношения    1822\n",
       "Россия                1687\n",
       "Знаменитости          1650\n",
       "Полезные советы       1578\n",
       "Путешествия           1563\n",
       "Кино                  1505\n",
       "Дети                  1459\n",
       "История               1437\n",
       "Семья                 1405\n",
       "Одежда                1379\n",
       "Здоровье              1243\n",
       "Искусство             1228\n",
       "Авто                  1077\n",
       "Психология            1055\n",
       "Сад и дача            1036\n",
       "Политика              1024\n",
       "Спорт                 1007\n",
       "Сделай сам             995\n",
       "Ремонт                 985\n",
       "Деньги                 973\n",
       "Еда                    912\n",
       "Интерьеры              809\n",
       "Строительство          758\n",
       "Музыка                 750\n",
       "Технологии             741\n",
       "Финансы                667\n",
       "Name: source_topic, dtype: int64"
      ]
     },
     "execution_count": 11,
     "metadata": {},
     "output_type": "execute_result"
    }
   ],
   "source": [
    "dash_visits['source_topic'].value_counts()"
   ]
  },
  {
   "cell_type": "markdown",
   "id": "3b49ccb1",
   "metadata": {},
   "source": [
    "Всего имеется 26 источников."
   ]
  },
  {
   "cell_type": "code",
   "execution_count": 12,
   "id": "b5cb4280",
   "metadata": {},
   "outputs": [
    {
     "data": {
      "image/png": "[encoded data removed]",
      "text/plain": [
       "<Figure size 720x720 with 1 Axes>"
      ]
     },
     "metadata": {
      "needs_background": "light"
     },
     "output_type": "display_data"
    }
   ],
   "source": [
    "# визуализация\n",
    "dash_visits['source_topic'].value_counts().sort_values(ascending=False).plot.barh(color=\"purple\",figsize=(10, 10));\n",
    "plt.title('Популярность тем источников',fontsize=16);\n",
    "plt.xlabel('Количество событий');\n",
    "plt.ylabel('Тема источника');\n",
    "plt.yticks(rotation=0,fontsize=12);"
   ]
  },
  {
   "cell_type": "markdown",
   "id": "7717fae4",
   "metadata": {},
   "source": [
    "На графике мы видим, что наиболее популярная тема источников - семейные отношения."
   ]
  },
  {
   "cell_type": "code",
   "execution_count": 13,
   "id": "ce825a3c",
   "metadata": {},
   "outputs": [
    {
     "data": {
      "text/plain": [
       "18-25    7056\n",
       "26-30    5875\n",
       "31-35    5552\n",
       "36-40    5105\n",
       "41-45    3903\n",
       "45+      3254\n",
       "Name: age_segment, dtype: int64"
      ]
     },
     "execution_count": 13,
     "metadata": {},
     "output_type": "execute_result"
    }
   ],
   "source": [
    "dash_visits['age_segment'].value_counts()"
   ]
  },
  {
   "cell_type": "code",
   "execution_count": 14,
   "id": "6d978abc",
   "metadata": {},
   "outputs": [
    {
     "data": {
      "text/plain": [
       "6"
      ]
     },
     "execution_count": 14,
     "metadata": {},
     "output_type": "execute_result"
    }
   ],
   "source": [
    "dash_visits['age_segment'].nunique()"
   ]
  },
  {
   "cell_type": "code",
   "execution_count": 15,
   "id": "d3b2ddde",
   "metadata": {},
   "outputs": [
    {
     "data": {
      "text/html": [
       "<style type=\"text/css\">\n",
       "#T_57dd4_row0_col0 {\n",
       "  background-color: #b40426;\n",
       "  color: #f1f1f1;\n",
       "}\n",
       "#T_57dd4_row1_col0 {\n",
       "  background-color: #f7b093;\n",
       "  color: #000000;\n",
       "}\n",
       "#T_57dd4_row2_col0 {\n",
       "  background-color: #f2cab5;\n",
       "  color: #000000;\n",
       "}\n",
       "#T_57dd4_row3_col0 {\n",
       "  background-color: #d9dce1;\n",
       "  color: #000000;\n",
       "}\n",
       "#T_57dd4_row4_col0 {\n",
       "  background-color: #7093f3;\n",
       "  color: #f1f1f1;\n",
       "}\n",
       "#T_57dd4_row5_col0 {\n",
       "  background-color: #3b4cc0;\n",
       "  color: #f1f1f1;\n",
       "}\n",
       "</style>\n",
       "<table id=\"T_57dd4\">\n",
       "  <thead>\n",
       "    <tr>\n",
       "      <th class=\"blank level0\" >&nbsp;</th>\n",
       "      <th id=\"T_57dd4_level0_col0\" class=\"col_heading level0 col0\" >0</th>\n",
       "    </tr>\n",
       "    <tr>\n",
       "      <th class=\"index_name level0\" >age_segment</th>\n",
       "      <th class=\"blank col0\" >&nbsp;</th>\n",
       "    </tr>\n",
       "  </thead>\n",
       "  <tbody>\n",
       "    <tr>\n",
       "      <th id=\"T_57dd4_level0_row0\" class=\"row_heading level0 row0\" >18-25</th>\n",
       "      <td id=\"T_57dd4_row0_col0\" class=\"data row0 col0\" >0.229501</td>\n",
       "    </tr>\n",
       "    <tr>\n",
       "      <th id=\"T_57dd4_level0_row1\" class=\"row_heading level0 row1\" >26-30</th>\n",
       "      <td id=\"T_57dd4_row1_col0\" class=\"data row1 col0\" >0.191088</td>\n",
       "    </tr>\n",
       "    <tr>\n",
       "      <th id=\"T_57dd4_level0_row2\" class=\"row_heading level0 row2\" >31-35</th>\n",
       "      <td id=\"T_57dd4_row2_col0\" class=\"data row2 col0\" >0.180582</td>\n",
       "    </tr>\n",
       "    <tr>\n",
       "      <th id=\"T_57dd4_level0_row3\" class=\"row_heading level0 row3\" >36-40</th>\n",
       "      <td id=\"T_57dd4_row3_col0\" class=\"data row3 col0\" >0.166043</td>\n",
       "    </tr>\n",
       "    <tr>\n",
       "      <th id=\"T_57dd4_level0_row4\" class=\"row_heading level0 row4\" >41-45</th>\n",
       "      <td id=\"T_57dd4_row4_col0\" class=\"data row4 col0\" >0.126947</td>\n",
       "    </tr>\n",
       "    <tr>\n",
       "      <th id=\"T_57dd4_level0_row5\" class=\"row_heading level0 row5\" >45+</th>\n",
       "      <td id=\"T_57dd4_row5_col0\" class=\"data row5 col0\" >0.105838</td>\n",
       "    </tr>\n",
       "  </tbody>\n",
       "</table>\n"
      ],
      "text/plain": [
       "<pandas.io.formats.style.Styler at 0x128e21b80>"
      ]
     },
     "execution_count": 15,
     "metadata": {},
     "output_type": "execute_result"
    }
   ],
   "source": [
    "# доля каждой категории\n",
    "(dash_visits.groupby(dash_visits['age_segment']).size() / \n",
    " len(dash_visits['age_segment'])).to_frame().style.background_gradient('coolwarm')"
   ]
  },
  {
   "cell_type": "code",
   "execution_count": 16,
   "id": "97850998",
   "metadata": {},
   "outputs": [
    {
     "data": {
      "image/png": "[encoded data removed]",
      "text/plain": [
       "<Figure size 504x504 with 1 Axes>"
      ]
     },
     "metadata": {},
     "output_type": "display_data"
    }
   ],
   "source": [
    "# визуализация\n",
    "(dash_visits.groupby(dash_visits['age_segment']).size() / \n",
    " len(dash_visits['age_segment'])).plot.pie(autopct = \"%0.2f%%\",figsize=(7, 7));\n",
    "plt.title('Доли возрастных групп',fontsize=16);"
   ]
  },
  {
   "cell_type": "markdown",
   "id": "8174d22c",
   "metadata": {},
   "source": [
    "На графике мы видим, что в нашем распоряжении 6 возрастных групп. Наиболее распространенная группа 18-25 лет, которая занимает 22.95% от тотала."
   ]
  },
  {
   "cell_type": "code",
   "execution_count": 17,
   "id": "22d93c74",
   "metadata": {},
   "outputs": [
    {
     "data": {
      "text/plain": [
       "2019-09-24 18:58:00    3383\n",
       "2019-09-24 18:57:00    3342\n",
       "2019-09-24 18:56:00    3325\n",
       "2019-09-24 18:59:00    3317\n",
       "2019-09-24 18:55:00    3088\n",
       "2019-09-24 19:00:00    2729\n",
       "2019-09-24 18:54:00    2551\n",
       "2019-09-24 18:30:00    1261\n",
       "2019-09-24 18:32:00    1257\n",
       "2019-09-24 18:31:00    1253\n",
       "2019-09-24 18:53:00    1107\n",
       "2019-09-24 18:29:00    1031\n",
       "2019-09-24 18:33:00    1007\n",
       "2019-09-24 18:52:00     719\n",
       "2019-09-24 18:28:00     615\n",
       "2019-09-24 18:34:00     576\n",
       "2019-09-24 18:35:00     184\n",
       "Name: dt, dtype: int64"
      ]
     },
     "execution_count": 17,
     "metadata": {},
     "output_type": "execute_result"
    }
   ],
   "source": [
    "dash_visits['dt'].value_counts()"
   ]
  },
  {
   "cell_type": "code",
   "execution_count": 18,
   "id": "5fe72f3f",
   "metadata": {},
   "outputs": [
    {
     "data": {
      "text/plain": [
       "17"
      ]
     },
     "execution_count": 18,
     "metadata": {},
     "output_type": "execute_result"
    }
   ],
   "source": [
    "dash_visits['dt'].nunique()"
   ]
  },
  {
   "cell_type": "code",
   "execution_count": 19,
   "id": "25eec1fd",
   "metadata": {},
   "outputs": [
    {
     "data": {
      "text/plain": [
       "Timestamp('2019-09-24 18:28:00')"
      ]
     },
     "execution_count": 19,
     "metadata": {},
     "output_type": "execute_result"
    }
   ],
   "source": [
    "dash_visits['dt'].min()"
   ]
  },
  {
   "cell_type": "code",
   "execution_count": 20,
   "id": "d3b1243b",
   "metadata": {},
   "outputs": [
    {
     "data": {
      "text/plain": [
       "Timestamp('2019-09-24 19:00:00')"
      ]
     },
     "execution_count": 20,
     "metadata": {},
     "output_type": "execute_result"
    }
   ],
   "source": [
    "dash_visits['dt'].max()"
   ]
  },
  {
   "cell_type": "code",
   "execution_count": 21,
   "id": "ca766731",
   "metadata": {},
   "outputs": [
    {
     "data": {
      "text/plain": [
       "0        18:32:00\n",
       "1        18:35:00\n",
       "2        18:54:00\n",
       "3        18:55:00\n",
       "4        18:56:00\n",
       "           ...   \n",
       "30740    18:57:00\n",
       "30741    19:00:00\n",
       "30742    18:54:00\n",
       "30743    18:56:00\n",
       "30744    19:00:00\n",
       "Name: time, Length: 30745, dtype: object"
      ]
     },
     "execution_count": 21,
     "metadata": {},
     "output_type": "execute_result"
    }
   ],
   "source": [
    "dash_visits['time'] = pd.to_datetime(dash_visits['dt'], format='%H:%M').dt.time\n",
    "dash_visits['time']"
   ]
  },
  {
   "cell_type": "markdown",
   "id": "c25677e6",
   "metadata": {},
   "source": [
    "В нашем распоряжении данные за 24 сентября 2019 года с 18:28 до 19:00."
   ]
  },
  {
   "cell_type": "code",
   "execution_count": 22,
   "id": "92a08e57",
   "metadata": {},
   "outputs": [
    {
     "data": {
      "text/plain": [
       "count    30745.000000\n",
       "mean        10.089673\n",
       "std         19.727601\n",
       "min          1.000000\n",
       "25%          1.000000\n",
       "50%          3.000000\n",
       "75%         10.000000\n",
       "max        371.000000\n",
       "Name: visits, dtype: float64"
      ]
     },
     "execution_count": 22,
     "metadata": {},
     "output_type": "execute_result"
    }
   ],
   "source": [
    "dash_visits['visits'].describe()"
   ]
  },
  {
   "cell_type": "markdown",
   "id": "dd8eaddb",
   "metadata": {},
   "source": [
    "Максимальное количсетво посещений - 371, среднее количество посещений - 10."
   ]
  },
  {
   "cell_type": "code",
   "execution_count": 23,
   "id": "6081499a",
   "metadata": {},
   "outputs": [
    {
     "data": {
      "text/plain": [
       "30745"
      ]
     },
     "execution_count": 23,
     "metadata": {},
     "output_type": "execute_result"
    }
   ],
   "source": [
    "dash_visits['record_id'].nunique()"
   ]
  },
  {
   "cell_type": "markdown",
   "id": "da8712ad",
   "metadata": {},
   "source": [
    "Все id в датафрейме уникальны."
   ]
  },
  {
   "cell_type": "markdown",
   "id": "319c62b2",
   "metadata": {},
   "source": [
    "## Вывод"
   ]
  },
  {
   "cell_type": "markdown",
   "id": "1f894789",
   "metadata": {},
   "source": [
    "В нашем распоряжении данные за 24 сентября 2019 года с 18:28 по 19:00 в виде датафрейма dash_visits, которая содержит 30745 записей, 6 столбцов:  \n",
    "* record_id - уникальный id;\n",
    "* item_topic - тема карточки;\n",
    "* source_topic - тема источника;\n",
    "* age_segment - возрастная категория;\n",
    "* dt - дата и время посещения;\n",
    "* visits - количество посещений.  \n",
    "\n",
    "Пропуски и дубликаты в данных отсутствуют, все id - уникальны.  \n",
    "В датафрейме присутсвует 6 возрастных групп. Наиболее распространенная группа 18-25 лет, которая занимает 22.95% от тотала.  \n",
    "Наиболее популярная тема карточки - отношения. Всего 25 тем.  \n",
    "Наиболее популярная тема источника - семейные отношения. Всего 26 источников."
   ]
  },
  {
   "cell_type": "code",
   "execution_count": 24,
   "id": "37f4ee12",
   "metadata": {},
   "outputs": [],
   "source": [
    "# экспорт данных в csv-файл\n",
    "dash_visits.to_csv('dash_visits.csv', index=False)"
   ]
  },
  {
   "cell_type": "code",
   "execution_count": 25,
   "id": "c992dd1e",
   "metadata": {},
   "outputs": [],
   "source": [
    "# проверка\n",
    "test = pd.read_csv('dash_visits.csv')"
   ]
  },
  {
   "cell_type": "code",
   "execution_count": 26,
   "id": "93263fdb",
   "metadata": {},
   "outputs": [
    {
     "data": {
      "text/html": [
       "<div>\n",
       "<style scoped>\n",
       "    .dataframe tbody tr th:only-of-type {\n",
       "        vertical-align: middle;\n",
       "    }\n",
       "\n",
       "    .dataframe tbody tr th {\n",
       "        vertical-align: top;\n",
       "    }\n",
       "\n",
       "    .dataframe thead th {\n",
       "        text-align: right;\n",
       "    }\n",
       "</style>\n",
       "<table border=\"1\" class=\"dataframe\">\n",
       "  <thead>\n",
       "    <tr style=\"text-align: right;\">\n",
       "      <th></th>\n",
       "      <th>record_id</th>\n",
       "      <th>item_topic</th>\n",
       "      <th>source_topic</th>\n",
       "      <th>age_segment</th>\n",
       "      <th>dt</th>\n",
       "      <th>visits</th>\n",
       "      <th>time</th>\n",
       "    </tr>\n",
       "  </thead>\n",
       "  <tbody>\n",
       "    <tr>\n",
       "      <th>0</th>\n",
       "      <td>1040597</td>\n",
       "      <td>Деньги</td>\n",
       "      <td>Авто</td>\n",
       "      <td>18-25</td>\n",
       "      <td>2019-09-24 18:32:00</td>\n",
       "      <td>3</td>\n",
       "      <td>18:32:00</td>\n",
       "    </tr>\n",
       "    <tr>\n",
       "      <th>1</th>\n",
       "      <td>1040598</td>\n",
       "      <td>Деньги</td>\n",
       "      <td>Авто</td>\n",
       "      <td>18-25</td>\n",
       "      <td>2019-09-24 18:35:00</td>\n",
       "      <td>1</td>\n",
       "      <td>18:35:00</td>\n",
       "    </tr>\n",
       "    <tr>\n",
       "      <th>2</th>\n",
       "      <td>1040599</td>\n",
       "      <td>Деньги</td>\n",
       "      <td>Авто</td>\n",
       "      <td>18-25</td>\n",
       "      <td>2019-09-24 18:54:00</td>\n",
       "      <td>4</td>\n",
       "      <td>18:54:00</td>\n",
       "    </tr>\n",
       "    <tr>\n",
       "      <th>3</th>\n",
       "      <td>1040600</td>\n",
       "      <td>Деньги</td>\n",
       "      <td>Авто</td>\n",
       "      <td>18-25</td>\n",
       "      <td>2019-09-24 18:55:00</td>\n",
       "      <td>17</td>\n",
       "      <td>18:55:00</td>\n",
       "    </tr>\n",
       "    <tr>\n",
       "      <th>4</th>\n",
       "      <td>1040601</td>\n",
       "      <td>Деньги</td>\n",
       "      <td>Авто</td>\n",
       "      <td>18-25</td>\n",
       "      <td>2019-09-24 18:56:00</td>\n",
       "      <td>27</td>\n",
       "      <td>18:56:00</td>\n",
       "    </tr>\n",
       "    <tr>\n",
       "      <th>...</th>\n",
       "      <td>...</td>\n",
       "      <td>...</td>\n",
       "      <td>...</td>\n",
       "      <td>...</td>\n",
       "      <td>...</td>\n",
       "      <td>...</td>\n",
       "      <td>...</td>\n",
       "    </tr>\n",
       "    <tr>\n",
       "      <th>30740</th>\n",
       "      <td>1071337</td>\n",
       "      <td>Юмор</td>\n",
       "      <td>Финансы</td>\n",
       "      <td>36-40</td>\n",
       "      <td>2019-09-24 18:57:00</td>\n",
       "      <td>2</td>\n",
       "      <td>18:57:00</td>\n",
       "    </tr>\n",
       "    <tr>\n",
       "      <th>30741</th>\n",
       "      <td>1071338</td>\n",
       "      <td>Юмор</td>\n",
       "      <td>Финансы</td>\n",
       "      <td>36-40</td>\n",
       "      <td>2019-09-24 19:00:00</td>\n",
       "      <td>1</td>\n",
       "      <td>19:00:00</td>\n",
       "    </tr>\n",
       "    <tr>\n",
       "      <th>30742</th>\n",
       "      <td>1071339</td>\n",
       "      <td>Юмор</td>\n",
       "      <td>Финансы</td>\n",
       "      <td>41-45</td>\n",
       "      <td>2019-09-24 18:54:00</td>\n",
       "      <td>1</td>\n",
       "      <td>18:54:00</td>\n",
       "    </tr>\n",
       "    <tr>\n",
       "      <th>30743</th>\n",
       "      <td>1071340</td>\n",
       "      <td>Юмор</td>\n",
       "      <td>Финансы</td>\n",
       "      <td>41-45</td>\n",
       "      <td>2019-09-24 18:56:00</td>\n",
       "      <td>1</td>\n",
       "      <td>18:56:00</td>\n",
       "    </tr>\n",
       "    <tr>\n",
       "      <th>30744</th>\n",
       "      <td>1071341</td>\n",
       "      <td>Юмор</td>\n",
       "      <td>Финансы</td>\n",
       "      <td>41-45</td>\n",
       "      <td>2019-09-24 19:00:00</td>\n",
       "      <td>1</td>\n",
       "      <td>19:00:00</td>\n",
       "    </tr>\n",
       "  </tbody>\n",
       "</table>\n",
       "<p>30745 rows × 7 columns</p>\n",
       "</div>"
      ],
      "text/plain": [
       "       record_id item_topic source_topic age_segment                   dt  \\\n",
       "0        1040597     Деньги         Авто       18-25  2019-09-24 18:32:00   \n",
       "1        1040598     Деньги         Авто       18-25  2019-09-24 18:35:00   \n",
       "2        1040599     Деньги         Авто       18-25  2019-09-24 18:54:00   \n",
       "3        1040600     Деньги         Авто       18-25  2019-09-24 18:55:00   \n",
       "4        1040601     Деньги         Авто       18-25  2019-09-24 18:56:00   \n",
       "...          ...        ...          ...         ...                  ...   \n",
       "30740    1071337       Юмор      Финансы       36-40  2019-09-24 18:57:00   \n",
       "30741    1071338       Юмор      Финансы       36-40  2019-09-24 19:00:00   \n",
       "30742    1071339       Юмор      Финансы       41-45  2019-09-24 18:54:00   \n",
       "30743    1071340       Юмор      Финансы       41-45  2019-09-24 18:56:00   \n",
       "30744    1071341       Юмор      Финансы       41-45  2019-09-24 19:00:00   \n",
       "\n",
       "       visits      time  \n",
       "0           3  18:32:00  \n",
       "1           1  18:35:00  \n",
       "2           4  18:54:00  \n",
       "3          17  18:55:00  \n",
       "4          27  18:56:00  \n",
       "...       ...       ...  \n",
       "30740       2  18:57:00  \n",
       "30741       1  19:00:00  \n",
       "30742       1  18:54:00  \n",
       "30743       1  18:56:00  \n",
       "30744       1  19:00:00  \n",
       "\n",
       "[30745 rows x 7 columns]"
      ]
     },
     "execution_count": 26,
     "metadata": {},
     "output_type": "execute_result"
    }
   ],
   "source": [
    "test"
   ]
  },
  {
   "cell_type": "code",
   "execution_count": null,
   "id": "3b1e748f",
   "metadata": {},
   "outputs": [],
   "source": []
  }
 ],
 "metadata": {
  "kernelspec": {
   "display_name": "Python 3 (ipykernel)",
   "language": "python",
   "name": "python3"
  },
  "language_info": {
   "codemirror_mode": {
    "name": "ipython",
    "version": 3
   },
   "file_extension": ".py",
   "mimetype": "text/x-python",
   "name": "python",
   "nbconvert_exporter": "python",
   "pygments_lexer": "ipython3",
   "version": "3.9.12"
  }
 },
 "nbformat": 4,
 "nbformat_minor": 5
}
